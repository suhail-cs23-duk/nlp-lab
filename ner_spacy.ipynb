{
 "cells": [
  {
   "cell_type": "code",
   "execution_count": 1,
   "id": "40e167ba-5fd8-479f-ac44-76ac3b26c650",
   "metadata": {
    "ExecuteTime": {
     "end_time": "2024-06-23T08:00:20.626734600Z",
     "start_time": "2024-06-23T08:00:15.518562Z"
    }
   },
   "outputs": [],
   "source": [
    "import spacy\n",
    "from spacy import displacy\n",
    "from collections import Counter\n",
    "import en_core_web_sm\n",
    "nlp = en_core_web_sm.load()\n",
    "from pprint import pprint"
   ]
  },
  {
   "cell_type": "code",
   "execution_count": 5,
   "id": "a324807c-e563-475b-9398-7315e6f9a8eb",
   "metadata": {
    "ExecuteTime": {
     "end_time": "2024-06-23T08:01:10.764325800Z",
     "start_time": "2024-06-23T08:01:10.743312700Z"
    }
   },
   "outputs": [
    {
     "name": "stdout",
     "output_type": "stream",
     "text": [
      "[('European', 'NORP'),\n",
      " ('Google', 'ORG'),\n",
      " ('$5.1 billion', 'MONEY'),\n",
      " ('Wednesday', 'DATE')]\n"
     ]
    }
   ],
   "source": [
    "doc = nlp('European authorities fined Google a record $5.1 billion on Wednesday for abusing its power in the mobile phone market and ordered the company to alter its practices')\n",
    "pprint([(X.text, X.label_) for X in doc.ents])"
   ]
  },
  {
   "cell_type": "code",
   "execution_count": 6,
   "id": "a112d449-2f01-4c25-90fd-2bb3116c09c8",
   "metadata": {
    "ExecuteTime": {
     "end_time": "2024-06-23T08:01:12.760026600Z",
     "start_time": "2024-06-23T08:01:12.742999700Z"
    }
   },
   "outputs": [
    {
     "data": {
      "text/plain": "<IPython.core.display.HTML object>",
      "text/html": "<span class=\"tex2jax_ignore\"><div class=\"entities\" style=\"line-height: 2.5; direction: ltr\">\n<mark class=\"entity\" style=\"background: #c887fb; padding: 0.45em 0.6em; margin: 0 0.25em; line-height: 1; border-radius: 0.35em;\">\n    European\n    <span style=\"font-size: 0.8em; font-weight: bold; line-height: 1; border-radius: 0.35em; vertical-align: middle; margin-left: 0.5rem\">NORP</span>\n</mark>\n authorities fined \n<mark class=\"entity\" style=\"background: #7aecec; padding: 0.45em 0.6em; margin: 0 0.25em; line-height: 1; border-radius: 0.35em;\">\n    Google\n    <span style=\"font-size: 0.8em; font-weight: bold; line-height: 1; border-radius: 0.35em; vertical-align: middle; margin-left: 0.5rem\">ORG</span>\n</mark>\n a record \n<mark class=\"entity\" style=\"background: #e4e7d2; padding: 0.45em 0.6em; margin: 0 0.25em; line-height: 1; border-radius: 0.35em;\">\n    $5.1 billion\n    <span style=\"font-size: 0.8em; font-weight: bold; line-height: 1; border-radius: 0.35em; vertical-align: middle; margin-left: 0.5rem\">MONEY</span>\n</mark>\n on \n<mark class=\"entity\" style=\"background: #bfe1d9; padding: 0.45em 0.6em; margin: 0 0.25em; line-height: 1; border-radius: 0.35em;\">\n    Wednesday\n    <span style=\"font-size: 0.8em; font-weight: bold; line-height: 1; border-radius: 0.35em; vertical-align: middle; margin-left: 0.5rem\">DATE</span>\n</mark>\n for abusing its power in the mobile phone market and ordered the company to alter its practices</div></span>"
     },
     "metadata": {},
     "output_type": "display_data"
    }
   ],
   "source": [
    "displacy.render(doc, jupyter=True, style='ent')"
   ]
  },
  {
   "cell_type": "code",
   "execution_count": 6,
   "id": "41483601-3187-4475-ae76-ddbb4c6187d1",
   "metadata": {
    "ExecuteTime": {
     "end_time": "2024-04-04T05:35:57.849224600Z",
     "start_time": "2024-04-04T05:34:33.399288200Z"
    }
   },
   "outputs": [
    {
     "name": "stdout",
     "output_type": "stream",
     "text": [
      "Collecting newspaper3k\n",
      "  Downloading newspaper3k-0.2.8-py3-none-any.whl.metadata (11 kB)\n",
      "Requirement already satisfied: beautifulsoup4>=4.4.1 in c:\\users\\sasuh\\appdata\\local\\programs\\python\\python312\\lib\\site-packages (from newspaper3k) (4.12.3)\n",
      "Requirement already satisfied: Pillow>=3.3.0 in c:\\users\\sasuh\\appdata\\local\\programs\\python\\python312\\lib\\site-packages (from newspaper3k) (10.2.0)\n",
      "Requirement already satisfied: PyYAML>=3.11 in c:\\users\\sasuh\\appdata\\local\\programs\\python\\python312\\lib\\site-packages (from newspaper3k) (6.0.1)\n",
      "Collecting cssselect>=0.9.2 (from newspaper3k)\n",
      "  Downloading cssselect-1.2.0-py2.py3-none-any.whl.metadata (2.2 kB)\n",
      "Collecting lxml>=3.6.0 (from newspaper3k)\n",
      "  Downloading lxml-5.2.1-cp312-cp312-win_amd64.whl.metadata (3.5 kB)\n",
      "Requirement already satisfied: nltk>=3.2.1 in c:\\users\\sasuh\\appdata\\local\\programs\\python\\python312\\lib\\site-packages (from newspaper3k) (3.8.1)\n",
      "Requirement already satisfied: requests>=2.10.0 in c:\\users\\sasuh\\appdata\\local\\programs\\python\\python312\\lib\\site-packages (from newspaper3k) (2.31.0)\n",
      "Collecting feedparser>=5.2.1 (from newspaper3k)\n",
      "  Downloading feedparser-6.0.11-py3-none-any.whl.metadata (2.4 kB)\n",
      "Collecting tldextract>=2.0.1 (from newspaper3k)\n",
      "  Downloading tldextract-5.1.2-py3-none-any.whl.metadata (11 kB)\n",
      "Collecting feedfinder2>=0.0.4 (from newspaper3k)\n",
      "  Downloading feedfinder2-0.0.4.tar.gz (3.3 kB)\n",
      "  Installing build dependencies: started\n",
      "  Installing build dependencies: finished with status 'done'\n",
      "  Getting requirements to build wheel: started\n",
      "  Getting requirements to build wheel: finished with status 'done'\n",
      "  Installing backend dependencies: started\n",
      "  Installing backend dependencies: finished with status 'done'\n",
      "  Preparing metadata (pyproject.toml): started\n",
      "  Preparing metadata (pyproject.toml): finished with status 'done'\n",
      "Collecting jieba3k>=0.35.1 (from newspaper3k)\n",
      "  Downloading jieba3k-0.35.1.zip (7.4 MB)\n",
      "     ---------------------------------------- 0.0/7.4 MB ? eta -:--:--\n",
      "     ---------------------------------------- 0.0/7.4 MB 640.0 kB/s eta 0:00:12\n",
      "     ---------------------------------------- 0.0/7.4 MB 653.6 kB/s eta 0:00:12\n",
      "     ---------------------------------------- 0.1/7.4 MB 648.1 kB/s eta 0:00:12\n",
      "     ---------------------------------------- 0.1/7.4 MB 648.1 kB/s eta 0:00:12\n",
      "      --------------------------------------- 0.1/7.4 MB 502.0 kB/s eta 0:00:15\n",
      "      --------------------------------------- 0.1/7.4 MB 423.5 kB/s eta 0:00:18\n",
      "      --------------------------------------- 0.1/7.4 MB 423.5 kB/s eta 0:00:18\n",
      "      --------------------------------------- 0.1/7.4 MB 423.5 kB/s eta 0:00:18\n",
      "      --------------------------------------- 0.1/7.4 MB 355.0 kB/s eta 0:00:21\n",
      "      --------------------------------------- 0.2/7.4 MB 350.7 kB/s eta 0:00:21\n",
      "     - -------------------------------------- 0.2/7.4 MB 389.1 kB/s eta 0:00:19\n",
      "     - -------------------------------------- 0.2/7.4 MB 430.6 kB/s eta 0:00:17\n",
      "     - -------------------------------------- 0.3/7.4 MB 472.9 kB/s eta 0:00:16\n",
      "     - -------------------------------------- 0.3/7.4 MB 472.9 kB/s eta 0:00:16\n",
      "     - -------------------------------------- 0.3/7.4 MB 498.8 kB/s eta 0:00:15\n",
      "     - -------------------------------------- 0.4/7.4 MB 473.7 kB/s eta 0:00:15\n",
      "     -- ------------------------------------- 0.4/7.4 MB 521.4 kB/s eta 0:00:14\n",
      "     -- ------------------------------------- 0.4/7.4 MB 513.9 kB/s eta 0:00:14\n",
      "     -- ------------------------------------- 0.5/7.4 MB 550.0 kB/s eta 0:00:13\n",
      "     -- ------------------------------------- 0.5/7.4 MB 564.5 kB/s eta 0:00:13\n",
      "     -- ------------------------------------- 0.5/7.4 MB 564.5 kB/s eta 0:00:13\n",
      "     --- ------------------------------------ 0.6/7.4 MB 564.4 kB/s eta 0:00:13\n",
      "     --- ------------------------------------ 0.6/7.4 MB 575.5 kB/s eta 0:00:12\n",
      "     --- ------------------------------------ 0.6/7.4 MB 562.7 kB/s eta 0:00:13\n",
      "     --- ------------------------------------ 0.7/7.4 MB 584.1 kB/s eta 0:00:12\n",
      "     ---- ----------------------------------- 0.7/7.4 MB 612.4 kB/s eta 0:00:11\n",
      "     ---- ----------------------------------- 0.8/7.4 MB 621.6 kB/s eta 0:00:11\n",
      "     ---- ----------------------------------- 0.8/7.4 MB 655.0 kB/s eta 0:00:11\n",
      "     ---- ----------------------------------- 0.8/7.4 MB 655.0 kB/s eta 0:00:11\n",
      "     ---- ----------------------------------- 0.9/7.4 MB 647.8 kB/s eta 0:00:11\n",
      "     ----- ---------------------------------- 1.0/7.4 MB 662.3 kB/s eta 0:00:10\n",
      "     ----- ---------------------------------- 1.0/7.4 MB 669.2 kB/s eta 0:00:10\n",
      "     ----- ---------------------------------- 1.0/7.4 MB 655.2 kB/s eta 0:00:10\n",
      "     ----- ---------------------------------- 1.1/7.4 MB 693.9 kB/s eta 0:00:10\n",
      "     ------ --------------------------------- 1.1/7.4 MB 693.2 kB/s eta 0:00:10\n",
      "     ------ --------------------------------- 1.2/7.4 MB 698.3 kB/s eta 0:00:09\n",
      "     ------ --------------------------------- 1.2/7.4 MB 697.6 kB/s eta 0:00:09\n",
      "     ------ --------------------------------- 1.2/7.4 MB 695.8 kB/s eta 0:00:09\n",
      "     ------- -------------------------------- 1.3/7.4 MB 718.0 kB/s eta 0:00:09\n",
      "     ------- -------------------------------- 1.3/7.4 MB 704.7 kB/s eta 0:00:09\n",
      "     ------- -------------------------------- 1.4/7.4 MB 730.3 kB/s eta 0:00:09\n",
      "     ------- -------------------------------- 1.4/7.4 MB 728.4 kB/s eta 0:00:09\n",
      "     -------- ------------------------------- 1.5/7.4 MB 752.6 kB/s eta 0:00:08\n",
      "     -------- ------------------------------- 1.5/7.4 MB 756.8 kB/s eta 0:00:08\n",
      "     -------- ------------------------------- 1.5/7.4 MB 756.8 kB/s eta 0:00:08\n",
      "     -------- ------------------------------- 1.5/7.4 MB 756.8 kB/s eta 0:00:08\n",
      "     -------- ------------------------------- 1.5/7.4 MB 712.1 kB/s eta 0:00:09\n",
      "     -------- ------------------------------- 1.5/7.4 MB 712.1 kB/s eta 0:00:09\n",
      "     -------- ------------------------------- 1.5/7.4 MB 712.1 kB/s eta 0:00:09\n",
      "     -------- ------------------------------- 1.6/7.4 MB 659.7 kB/s eta 0:00:09\n",
      "     -------- ------------------------------- 1.6/7.4 MB 681.0 kB/s eta 0:00:09\n",
      "     -------- ------------------------------- 1.7/7.4 MB 693.8 kB/s eta 0:00:09\n",
      "     --------- ------------------------------ 1.7/7.4 MB 680.2 kB/s eta 0:00:09\n",
      "     --------- ------------------------------ 1.7/7.4 MB 684.0 kB/s eta 0:00:09\n",
      "     --------- ------------------------------ 1.8/7.4 MB 679.2 kB/s eta 0:00:09\n",
      "     --------- ------------------------------ 1.8/7.4 MB 686.9 kB/s eta 0:00:09\n",
      "     ---------- ----------------------------- 1.9/7.4 MB 697.5 kB/s eta 0:00:08\n",
      "     ---------- ----------------------------- 1.9/7.4 MB 715.7 kB/s eta 0:00:08\n",
      "     ---------- ----------------------------- 2.0/7.4 MB 726.1 kB/s eta 0:00:08\n",
      "     ---------- ----------------------------- 2.0/7.4 MB 733.0 kB/s eta 0:00:08\n",
      "     ----------- ---------------------------- 2.1/7.4 MB 730.4 kB/s eta 0:00:08\n",
      "     ----------- ---------------------------- 2.2/7.4 MB 753.8 kB/s eta 0:00:07\n",
      "     ----------- ---------------------------- 2.2/7.4 MB 757.3 kB/s eta 0:00:07\n",
      "     ------------ --------------------------- 2.3/7.4 MB 747.5 kB/s eta 0:00:07\n",
      "     ------------ --------------------------- 2.3/7.4 MB 757.8 kB/s eta 0:00:07\n",
      "     ------------ --------------------------- 2.3/7.4 MB 758.3 kB/s eta 0:00:07\n",
      "     ------------ --------------------------- 2.4/7.4 MB 753.1 kB/s eta 0:00:07\n",
      "     ------------ --------------------------- 2.4/7.4 MB 759.0 kB/s eta 0:00:07\n",
      "     ------------- -------------------------- 2.4/7.4 MB 750.7 kB/s eta 0:00:07\n",
      "     ------------- -------------------------- 2.5/7.4 MB 751.9 kB/s eta 0:00:07\n",
      "     ------------- -------------------------- 2.5/7.4 MB 763.4 kB/s eta 0:00:07\n",
      "     -------------- ------------------------- 2.6/7.4 MB 777.1 kB/s eta 0:00:07\n",
      "     -------------- ------------------------- 2.7/7.4 MB 793.0 kB/s eta 0:00:06\n",
      "     --------------- ------------------------ 2.8/7.4 MB 800.0 kB/s eta 0:00:06\n",
      "     --------------- ------------------------ 2.9/7.4 MB 812.6 kB/s eta 0:00:06\n",
      "     --------------- ------------------------ 2.9/7.4 MB 814.7 kB/s eta 0:00:06\n",
      "     --------------- ------------------------ 2.9/7.4 MB 811.3 kB/s eta 0:00:06\n",
      "     ---------------- ----------------------- 3.1/7.4 MB 835.3 kB/s eta 0:00:06\n",
      "     ---------------- ----------------------- 3.1/7.4 MB 841.3 kB/s eta 0:00:06\n",
      "     ----------------- ---------------------- 3.2/7.4 MB 854.7 kB/s eta 0:00:05\n",
      "     ----------------- ---------------------- 3.3/7.4 MB 860.3 kB/s eta 0:00:05\n",
      "     ------------------ --------------------- 3.4/7.4 MB 879.9 kB/s eta 0:00:05\n",
      "     ------------------ --------------------- 3.4/7.4 MB 885.3 kB/s eta 0:00:05\n",
      "     ------------------ --------------------- 3.4/7.4 MB 885.3 kB/s eta 0:00:05\n",
      "     ------------------ --------------------- 3.4/7.4 MB 885.3 kB/s eta 0:00:05\n",
      "     ------------------ --------------------- 3.5/7.4 MB 868.6 kB/s eta 0:00:05\n",
      "     ------------------- -------------------- 3.5/7.4 MB 866.1 kB/s eta 0:00:05\n",
      "     ------------------- -------------------- 3.6/7.4 MB 872.0 kB/s eta 0:00:05\n",
      "     ------------------- -------------------- 3.7/7.4 MB 881.9 kB/s eta 0:00:05\n",
      "     -------------------- ------------------- 3.8/7.4 MB 891.5 kB/s eta 0:00:05\n",
      "     -------------------- ------------------- 3.8/7.4 MB 894.6 kB/s eta 0:00:05\n",
      "     -------------------- ------------------- 3.8/7.4 MB 883.2 kB/s eta 0:00:05\n",
      "     --------------------- ------------------ 3.9/7.4 MB 902.8 kB/s eta 0:00:04\n",
      "     --------------------- ------------------ 4.0/7.4 MB 907.2 kB/s eta 0:00:04\n",
      "     ---------------------- ----------------- 4.1/7.4 MB 922.9 kB/s eta 0:00:04\n",
      "     ---------------------- ----------------- 4.2/7.4 MB 931.5 kB/s eta 0:00:04\n",
      "     ----------------------- ---------------- 4.3/7.4 MB 944.5 kB/s eta 0:00:04\n",
      "     ----------------------- ---------------- 4.4/7.4 MB 954.0 kB/s eta 0:00:04\n",
      "     ----------------------- ---------------- 4.4/7.4 MB 956.2 kB/s eta 0:00:04\n",
      "     ----------------------- ---------------- 4.4/7.4 MB 956.2 kB/s eta 0:00:04\n",
      "     ----------------------- ---------------- 4.4/7.4 MB 937.4 kB/s eta 0:00:04\n",
      "     ------------------------ --------------- 4.5/7.4 MB 942.1 kB/s eta 0:00:04\n",
      "     ------------------------ --------------- 4.5/7.4 MB 937.1 kB/s eta 0:00:04\n",
      "     ------------------------ --------------- 4.5/7.4 MB 934.4 kB/s eta 0:00:04\n",
      "     ------------------------ --------------- 4.5/7.4 MB 934.4 kB/s eta 0:00:04\n",
      "     ------------------------ --------------- 4.6/7.4 MB 923.2 kB/s eta 0:00:04\n",
      "     ------------------------ --------------- 4.6/7.4 MB 928.5 kB/s eta 0:00:03\n",
      "     ------------------------- -------------- 4.7/7.4 MB 922.3 kB/s eta 0:00:03\n",
      "     ------------------------- -------------- 4.8/7.4 MB 929.8 kB/s eta 0:00:03\n",
      "     ------------------------- -------------- 4.8/7.4 MB 935.1 kB/s eta 0:00:03\n",
      "     -------------------------- ------------- 4.9/7.4 MB 947.4 kB/s eta 0:00:03\n",
      "     -------------------------- ------------- 5.0/7.4 MB 951.8 kB/s eta 0:00:03\n",
      "     --------------------------- ------------ 5.1/7.4 MB 966.6 kB/s eta 0:00:03\n",
      "     --------------------------- ------------ 5.2/7.4 MB 967.5 kB/s eta 0:00:03\n",
      "     --------------------------- ------------ 5.2/7.4 MB 967.5 kB/s eta 0:00:03\n",
      "     --------------------------- ------------ 5.2/7.4 MB 954.5 kB/s eta 0:00:03\n",
      "     --------------------------- ------------ 5.2/7.4 MB 954.5 kB/s eta 0:00:03\n",
      "     --------------------------- ------------ 5.2/7.4 MB 954.5 kB/s eta 0:00:03\n",
      "     --------------------------- ------------ 5.2/7.4 MB 954.5 kB/s eta 0:00:03\n",
      "     --------------------------- ------------ 5.2/7.4 MB 954.5 kB/s eta 0:00:03\n",
      "     ----------------------------- ---------- 5.4/7.4 MB 960.3 kB/s eta 0:00:03\n",
      "     ----------------------------- ---------- 5.4/7.4 MB 960.3 kB/s eta 0:00:03\n",
      "     ----------------------------- ---------- 5.4/7.4 MB 950.8 kB/s eta 0:00:03\n",
      "     ----------------------------- ---------- 5.5/7.4 MB 948.6 kB/s eta 0:00:03\n",
      "     ----------------------------- ---------- 5.5/7.4 MB 946.2 kB/s eta 0:00:02\n",
      "     ------------------------------ --------- 5.6/7.4 MB 950.8 kB/s eta 0:00:02\n",
      "     ------------------------------ --------- 5.6/7.4 MB 950.8 kB/s eta 0:00:02\n",
      "     ------------------------------ --------- 5.6/7.4 MB 950.8 kB/s eta 0:00:02\n",
      "     ------------------------------ --------- 5.6/7.4 MB 950.8 kB/s eta 0:00:02\n",
      "     ------------------------------ --------- 5.6/7.4 MB 950.8 kB/s eta 0:00:02\n",
      "     ------------------------------ --------- 5.6/7.4 MB 950.8 kB/s eta 0:00:02\n",
      "     ------------------------------- -------- 5.8/7.4 MB 939.9 kB/s eta 0:00:02\n",
      "     ------------------------------- -------- 5.8/7.4 MB 939.9 kB/s eta 0:00:02\n",
      "     ------------------------------- -------- 5.9/7.4 MB 932.4 kB/s eta 0:00:02\n",
      "     ------------------------------- -------- 5.9/7.4 MB 932.7 kB/s eta 0:00:02\n",
      "     -------------------------------- ------- 5.9/7.4 MB 931.6 kB/s eta 0:00:02\n",
      "     -------------------------------- ------- 6.0/7.4 MB 941.4 kB/s eta 0:00:02\n",
      "     -------------------------------- ------- 6.1/7.4 MB 942.4 kB/s eta 0:00:02\n",
      "     -------------------------------- ------- 6.1/7.4 MB 942.4 kB/s eta 0:00:02\n",
      "     --------------------------------- ------ 6.1/7.4 MB 934.6 kB/s eta 0:00:02\n",
      "     --------------------------------- ------ 6.2/7.4 MB 933.9 kB/s eta 0:00:02\n",
      "     --------------------------------- ------ 6.2/7.4 MB 928.2 kB/s eta 0:00:02\n",
      "     --------------------------------- ------ 6.2/7.4 MB 927.2 kB/s eta 0:00:02\n",
      "     ---------------------------------- ----- 6.3/7.4 MB 934.5 kB/s eta 0:00:02\n",
      "     ---------------------------------- ----- 6.3/7.4 MB 931.0 kB/s eta 0:00:02\n",
      "     ---------------------------------- ----- 6.4/7.4 MB 936.4 kB/s eta 0:00:02\n",
      "     ---------------------------------- ----- 6.4/7.4 MB 936.4 kB/s eta 0:00:02\n",
      "     ---------------------------------- ----- 6.4/7.4 MB 929.0 kB/s eta 0:00:02\n",
      "     ----------------------------------- ---- 6.5/7.4 MB 933.6 kB/s eta 0:00:01\n",
      "     ----------------------------------- ---- 6.6/7.4 MB 937.8 kB/s eta 0:00:01\n",
      "     ----------------------------------- ---- 6.6/7.4 MB 937.2 kB/s eta 0:00:01\n",
      "     ----------------------------------- ---- 6.7/7.4 MB 934.2 kB/s eta 0:00:01\n",
      "     ------------------------------------ --- 6.7/7.4 MB 940.0 kB/s eta 0:00:01\n",
      "     ------------------------------------ --- 6.7/7.4 MB 940.0 kB/s eta 0:00:01\n",
      "     ------------------------------------ --- 6.7/7.4 MB 940.0 kB/s eta 0:00:01\n",
      "     ------------------------------------ --- 6.8/7.4 MB 925.6 kB/s eta 0:00:01\n",
      "     ------------------------------------ --- 6.8/7.4 MB 928.0 kB/s eta 0:00:01\n",
      "     ------------------------------------- -- 6.9/7.4 MB 926.3 kB/s eta 0:00:01\n",
      "     ------------------------------------- -- 6.9/7.4 MB 927.1 kB/s eta 0:00:01\n",
      "     ------------------------------------- -- 6.9/7.4 MB 920.7 kB/s eta 0:00:01\n",
      "     ------------------------------------- -- 7.0/7.4 MB 924.5 kB/s eta 0:00:01\n",
      "     ------------------------------------- -- 7.0/7.4 MB 924.0 kB/s eta 0:00:01\n",
      "     -------------------------------------- - 7.1/7.4 MB 922.0 kB/s eta 0:00:01\n",
      "     -------------------------------------- - 7.1/7.4 MB 929.0 kB/s eta 0:00:01\n",
      "     -------------------------------------- - 7.2/7.4 MB 927.3 kB/s eta 0:00:01\n",
      "     ---------------------------------------  7.3/7.4 MB 934.9 kB/s eta 0:00:01\n",
      "     ---------------------------------------  7.3/7.4 MB 936.5 kB/s eta 0:00:01\n",
      "     ---------------------------------------  7.4/7.4 MB 941.2 kB/s eta 0:00:01\n",
      "     ---------------------------------------  7.4/7.4 MB 934.6 kB/s eta 0:00:01\n",
      "     ---------------------------------------- 7.4/7.4 MB 933.9 kB/s eta 0:00:00\n",
      "  Installing build dependencies: started\n",
      "  Installing build dependencies: finished with status 'done'\n",
      "  Getting requirements to build wheel: started\n",
      "  Getting requirements to build wheel: finished with status 'done'\n",
      "  Installing backend dependencies: started\n",
      "  Installing backend dependencies: finished with status 'done'\n",
      "  Preparing metadata (pyproject.toml): started\n",
      "  Preparing metadata (pyproject.toml): finished with status 'done'\n",
      "Requirement already satisfied: python-dateutil>=2.5.3 in c:\\users\\sasuh\\appdata\\local\\programs\\python\\python312\\lib\\site-packages (from newspaper3k) (2.9.0.post0)\n",
      "Collecting tinysegmenter==0.3 (from newspaper3k)\n",
      "  Downloading tinysegmenter-0.3.tar.gz (16 kB)\n",
      "  Installing build dependencies: started\n",
      "  Installing build dependencies: finished with status 'done'\n",
      "  Getting requirements to build wheel: started\n",
      "  Getting requirements to build wheel: finished with status 'done'\n",
      "  Installing backend dependencies: started\n",
      "  Installing backend dependencies: finished with status 'done'\n",
      "  Preparing metadata (pyproject.toml): started\n",
      "  Preparing metadata (pyproject.toml): finished with status 'done'\n",
      "Requirement already satisfied: soupsieve>1.2 in c:\\users\\sasuh\\appdata\\local\\programs\\python\\python312\\lib\\site-packages (from beautifulsoup4>=4.4.1->newspaper3k) (2.5)\n",
      "Requirement already satisfied: six in c:\\users\\sasuh\\appdata\\local\\programs\\python\\python312\\lib\\site-packages (from feedfinder2>=0.0.4->newspaper3k) (1.16.0)\n",
      "Collecting sgmllib3k (from feedparser>=5.2.1->newspaper3k)\n",
      "  Downloading sgmllib3k-1.0.0.tar.gz (5.8 kB)\n",
      "  Installing build dependencies: started\n",
      "  Installing build dependencies: finished with status 'done'\n",
      "  Getting requirements to build wheel: started\n",
      "  Getting requirements to build wheel: finished with status 'done'\n",
      "  Installing backend dependencies: started\n",
      "  Installing backend dependencies: finished with status 'done'\n",
      "  Preparing metadata (pyproject.toml): started\n",
      "  Preparing metadata (pyproject.toml): finished with status 'done'\n",
      "Requirement already satisfied: click in c:\\users\\sasuh\\appdata\\local\\programs\\python\\python312\\lib\\site-packages (from nltk>=3.2.1->newspaper3k) (8.1.7)\n",
      "Requirement already satisfied: joblib in c:\\users\\sasuh\\appdata\\local\\programs\\python\\python312\\lib\\site-packages (from nltk>=3.2.1->newspaper3k) (1.3.2)\n",
      "Requirement already satisfied: regex>=2021.8.3 in c:\\users\\sasuh\\appdata\\local\\programs\\python\\python312\\lib\\site-packages (from nltk>=3.2.1->newspaper3k) (2023.12.25)\n",
      "Requirement already satisfied: tqdm in c:\\users\\sasuh\\appdata\\local\\programs\\python\\python312\\lib\\site-packages (from nltk>=3.2.1->newspaper3k) (4.66.2)\n",
      "Requirement already satisfied: charset-normalizer<4,>=2 in c:\\users\\sasuh\\appdata\\local\\programs\\python\\python312\\lib\\site-packages (from requests>=2.10.0->newspaper3k) (3.3.2)\n",
      "Requirement already satisfied: idna<4,>=2.5 in c:\\users\\sasuh\\appdata\\local\\programs\\python\\python312\\lib\\site-packages (from requests>=2.10.0->newspaper3k) (3.6)\n",
      "Requirement already satisfied: urllib3<3,>=1.21.1 in c:\\users\\sasuh\\appdata\\local\\programs\\python\\python312\\lib\\site-packages (from requests>=2.10.0->newspaper3k) (2.2.1)\n",
      "Requirement already satisfied: certifi>=2017.4.17 in c:\\users\\sasuh\\appdata\\local\\programs\\python\\python312\\lib\\site-packages (from requests>=2.10.0->newspaper3k) (2024.2.2)\n",
      "Collecting requests-file>=1.4 (from tldextract>=2.0.1->newspaper3k)\n",
      "  Downloading requests_file-2.0.0-py2.py3-none-any.whl.metadata (1.7 kB)\n",
      "Collecting filelock>=3.0.8 (from tldextract>=2.0.1->newspaper3k)\n",
      "  Downloading filelock-3.13.3-py3-none-any.whl.metadata (2.8 kB)\n",
      "Requirement already satisfied: colorama in c:\\users\\sasuh\\appdata\\local\\programs\\python\\python312\\lib\\site-packages (from click->nltk>=3.2.1->newspaper3k) (0.4.6)\n",
      "Downloading newspaper3k-0.2.8-py3-none-any.whl (211 kB)\n",
      "   ---------------------------------------- 0.0/211.1 kB ? eta -:--:--\n",
      "   ------------- -------------------------- 71.7/211.1 kB 1.9 MB/s eta 0:00:01\n",
      "   -------------------------------- ------- 174.1/211.1 kB 2.1 MB/s eta 0:00:01\n",
      "   ---------------------------------------- 211.1/211.1 kB 2.1 MB/s eta 0:00:00\n",
      "Downloading cssselect-1.2.0-py2.py3-none-any.whl (18 kB)\n",
      "Downloading feedparser-6.0.11-py3-none-any.whl (81 kB)\n",
      "   ---------------------------------------- 0.0/81.3 kB ? eta -:--:--\n",
      "   ----- ---------------------------------- 10.2/81.3 kB ? eta -:--:--\n",
      "   --------------- ------------------------ 30.7/81.3 kB 262.6 kB/s eta 0:00:01\n",
      "   -------------------- ------------------- 41.0/81.3 kB 330.3 kB/s eta 0:00:01\n",
      "   ---------------------------------------- 81.3/81.3 kB 413.4 kB/s eta 0:00:00\n",
      "Downloading lxml-5.2.1-cp312-cp312-win_amd64.whl (3.8 MB)\n",
      "   ---------------------------------------- 0.0/3.8 MB ? eta -:--:--\n",
      "   ---------------------------------------- 0.0/3.8 MB ? eta -:--:--\n",
      "   ---------------------------------------- 0.0/3.8 MB ? eta -:--:--\n",
      "    --------------------------------------- 0.1/3.8 MB 550.5 kB/s eta 0:00:07\n",
      "   - -------------------------------------- 0.1/3.8 MB 901.1 kB/s eta 0:00:05\n",
      "   - -------------------------------------- 0.2/3.8 MB 706.2 kB/s eta 0:00:06\n",
      "   -- ------------------------------------- 0.2/3.8 MB 845.5 kB/s eta 0:00:05\n",
      "   -- ------------------------------------- 0.2/3.8 MB 811.5 kB/s eta 0:00:05\n",
      "   -- ------------------------------------- 0.2/3.8 MB 656.8 kB/s eta 0:00:06\n",
      "   -- ------------------------------------- 0.3/3.8 MB 741.6 kB/s eta 0:00:05\n",
      "   --- ------------------------------------ 0.3/3.8 MB 679.5 kB/s eta 0:00:06\n",
      "   --- ------------------------------------ 0.4/3.8 MB 765.8 kB/s eta 0:00:05\n",
      "   --- ------------------------------------ 0.4/3.8 MB 765.8 kB/s eta 0:00:05\n",
      "   ---- ----------------------------------- 0.4/3.8 MB 655.5 kB/s eta 0:00:06\n",
      "   ---- ----------------------------------- 0.4/3.8 MB 671.7 kB/s eta 0:00:06\n",
      "   ----- ---------------------------------- 0.5/3.8 MB 718.0 kB/s eta 0:00:05\n",
      "   ----- ---------------------------------- 0.5/3.8 MB 742.9 kB/s eta 0:00:05\n",
      "   ------ --------------------------------- 0.6/3.8 MB 736.2 kB/s eta 0:00:05\n",
      "   ------ --------------------------------- 0.6/3.8 MB 756.6 kB/s eta 0:00:05\n",
      "   ------ --------------------------------- 0.7/3.8 MB 779.1 kB/s eta 0:00:05\n",
      "   ------ --------------------------------- 0.7/3.8 MB 779.1 kB/s eta 0:00:05\n",
      "   ------- -------------------------------- 0.7/3.8 MB 721.3 kB/s eta 0:00:05\n",
      "   ------- -------------------------------- 0.7/3.8 MB 719.3 kB/s eta 0:00:05\n",
      "   ------- -------------------------------- 0.7/3.8 MB 674.8 kB/s eta 0:00:05\n",
      "   -------- ------------------------------- 0.8/3.8 MB 712.0 kB/s eta 0:00:05\n",
      "   --------- ------------------------------ 0.9/3.8 MB 763.5 kB/s eta 0:00:04\n",
      "   ---------- ----------------------------- 1.0/3.8 MB 828.2 kB/s eta 0:00:04\n",
      "   ----------- ---------------------------- 1.1/3.8 MB 865.9 kB/s eta 0:00:04\n",
      "   ----------- ---------------------------- 1.1/3.8 MB 865.9 kB/s eta 0:00:04\n",
      "   ----------- ---------------------------- 1.1/3.8 MB 821.1 kB/s eta 0:00:04\n",
      "   ------------ --------------------------- 1.2/3.8 MB 834.1 kB/s eta 0:00:04\n",
      "   ------------ --------------------------- 1.2/3.8 MB 864.1 kB/s eta 0:00:03\n",
      "   ------------- -------------------------- 1.3/3.8 MB 885.9 kB/s eta 0:00:03\n",
      "   -------------- ------------------------- 1.4/3.8 MB 899.0 kB/s eta 0:00:03\n",
      "   --------------- ------------------------ 1.5/3.8 MB 944.0 kB/s eta 0:00:03\n",
      "   --------------- ------------------------ 1.5/3.8 MB 938.5 kB/s eta 0:00:03\n",
      "   --------------- ------------------------ 1.5/3.8 MB 938.5 kB/s eta 0:00:03\n",
      "   ----------------- ---------------------- 1.6/3.8 MB 950.0 kB/s eta 0:00:03\n",
      "   ----------------- ---------------------- 1.7/3.8 MB 971.3 kB/s eta 0:00:03\n",
      "   ------------------ --------------------- 1.8/3.8 MB 988.9 kB/s eta 0:00:03\n",
      "   ------------------- -------------------- 1.8/3.8 MB 1.0 MB/s eta 0:00:02\n",
      "   -------------------- ------------------- 2.0/3.8 MB 1.0 MB/s eta 0:00:02\n",
      "   --------------------- ------------------ 2.0/3.8 MB 1.0 MB/s eta 0:00:02\n",
      "   --------------------- ------------------ 2.0/3.8 MB 1.0 MB/s eta 0:00:02\n",
      "   --------------------- ------------------ 2.0/3.8 MB 1.0 MB/s eta 0:00:02\n",
      "   ----------------------- ---------------- 2.2/3.8 MB 1.1 MB/s eta 0:00:02\n",
      "   ----------------------- ---------------- 2.2/3.8 MB 1.1 MB/s eta 0:00:02\n",
      "   ------------------------ --------------- 2.3/3.8 MB 1.1 MB/s eta 0:00:02\n",
      "   ------------------------- -------------- 2.4/3.8 MB 1.1 MB/s eta 0:00:02\n",
      "   -------------------------- ------------- 2.5/3.8 MB 1.1 MB/s eta 0:00:02\n",
      "   -------------------------- ------------- 2.5/3.8 MB 1.1 MB/s eta 0:00:02\n",
      "   -------------------------- ------------- 2.5/3.8 MB 1.1 MB/s eta 0:00:02\n",
      "   --------------------------- ------------ 2.6/3.8 MB 1.1 MB/s eta 0:00:02\n",
      "   --------------------------- ------------ 2.7/3.8 MB 1.1 MB/s eta 0:00:02\n",
      "   ---------------------------- ----------- 2.7/3.8 MB 1.1 MB/s eta 0:00:02\n",
      "   ---------------------------- ----------- 2.7/3.8 MB 1.1 MB/s eta 0:00:02\n",
      "   ----------------------------- ---------- 2.8/3.8 MB 1.1 MB/s eta 0:00:01\n",
      "   ----------------------------- ---------- 2.8/3.8 MB 1.1 MB/s eta 0:00:01\n",
      "   ------------------------------- -------- 3.0/3.8 MB 1.1 MB/s eta 0:00:01\n",
      "   ------------------------------- -------- 3.0/3.8 MB 1.1 MB/s eta 0:00:01\n",
      "   ------------------------------- -------- 3.0/3.8 MB 1.1 MB/s eta 0:00:01\n",
      "   -------------------------------- ------- 3.1/3.8 MB 1.1 MB/s eta 0:00:01\n",
      "   --------------------------------- ------ 3.2/3.8 MB 1.1 MB/s eta 0:00:01\n",
      "   --------------------------------- ------ 3.2/3.8 MB 1.1 MB/s eta 0:00:01\n",
      "   ---------------------------------- ----- 3.3/3.8 MB 1.1 MB/s eta 0:00:01\n",
      "   ----------------------------------- ---- 3.4/3.8 MB 1.1 MB/s eta 0:00:01\n",
      "   ------------------------------------ --- 3.5/3.8 MB 1.1 MB/s eta 0:00:01\n",
      "   ------------------------------------ --- 3.5/3.8 MB 1.1 MB/s eta 0:00:01\n",
      "   ------------------------------------ --- 3.5/3.8 MB 1.1 MB/s eta 0:00:01\n",
      "   ------------------------------------- -- 3.6/3.8 MB 1.1 MB/s eta 0:00:01\n",
      "   -------------------------------------- - 3.7/3.8 MB 1.1 MB/s eta 0:00:01\n",
      "   -------------------------------------- - 3.7/3.8 MB 1.1 MB/s eta 0:00:01\n",
      "   ---------------------------------------  3.8/3.8 MB 1.1 MB/s eta 0:00:01\n",
      "   ---------------------------------------  3.8/3.8 MB 1.1 MB/s eta 0:00:01\n",
      "   ---------------------------------------- 3.8/3.8 MB 1.1 MB/s eta 0:00:00\n",
      "Downloading tldextract-5.1.2-py3-none-any.whl (97 kB)\n",
      "   ---------------------------------------- 0.0/97.6 kB ? eta -:--:--\n",
      "   ------------------------- -------------- 61.4/97.6 kB 3.2 MB/s eta 0:00:01\n",
      "   ---------------------------------------- 97.6/97.6 kB 1.4 MB/s eta 0:00:00\n",
      "Downloading filelock-3.13.3-py3-none-any.whl (11 kB)\n",
      "Downloading requests_file-2.0.0-py2.py3-none-any.whl (4.2 kB)\n",
      "Building wheels for collected packages: tinysegmenter, feedfinder2, jieba3k, sgmllib3k\n",
      "  Building wheel for tinysegmenter (pyproject.toml): started\n",
      "  Building wheel for tinysegmenter (pyproject.toml): finished with status 'done'\n",
      "  Created wheel for tinysegmenter: filename=tinysegmenter-0.3-py3-none-any.whl size=13568 sha256=21824dad4d278f0fcd81ff344431d77c9659b7349db7dffcdf6b6dacbe3caa42\n",
      "  Stored in directory: c:\\users\\sasuh\\appdata\\local\\pip\\cache\\wheels\\a5\\91\\9f\\00d66475960891a64867914273fcaf78df6cb04d905b104a2a\n",
      "  Building wheel for feedfinder2 (pyproject.toml): started\n",
      "  Building wheel for feedfinder2 (pyproject.toml): finished with status 'done'\n",
      "  Created wheel for feedfinder2: filename=feedfinder2-0.0.4-py3-none-any.whl size=3359 sha256=49d6ded2d46497084bcdc874c7114ae6d22308a89c616679f57613157fd98bb8\n",
      "  Stored in directory: c:\\users\\sasuh\\appdata\\local\\pip\\cache\\wheels\\9f\\9f\\fb\\364871d7426d3cdd4d293dcf7e53d97f160c508b2ccf00cc79\n",
      "  Building wheel for jieba3k (pyproject.toml): started\n",
      "  Building wheel for jieba3k (pyproject.toml): finished with status 'done'\n",
      "  Created wheel for jieba3k: filename=jieba3k-0.35.1-py3-none-any.whl size=7398388 sha256=1b405bca77c2f7fe05ce3c1cd633bfb70f56036d9b2ca9a426bbfc9122b2f19a\n",
      "  Stored in directory: c:\\users\\sasuh\\appdata\\local\\pip\\cache\\wheels\\26\\72\\f7\\fff392a8d4ea988dea4ccf9788599d09462a7f5e51e04f8a92\n",
      "  Building wheel for sgmllib3k (pyproject.toml): started\n",
      "  Building wheel for sgmllib3k (pyproject.toml): finished with status 'done'\n",
      "  Created wheel for sgmllib3k: filename=sgmllib3k-1.0.0-py3-none-any.whl size=6060 sha256=51e5705f61d6f33d164734fb06cfadee7c43cdf85db35c309432e70f0ac4db43\n",
      "  Stored in directory: c:\\users\\sasuh\\appdata\\local\\pip\\cache\\wheels\\03\\f5\\1a\\23761066dac1d0e8e683e5fdb27e12de53209d05a4a37e6246\n",
      "Successfully built tinysegmenter feedfinder2 jieba3k sgmllib3k\n",
      "Installing collected packages: tinysegmenter, sgmllib3k, jieba3k, lxml, filelock, feedparser, cssselect, requests-file, feedfinder2, tldextract, newspaper3k\n",
      "Successfully installed cssselect-1.2.0 feedfinder2-0.0.4 feedparser-6.0.11 filelock-3.13.3 jieba3k-0.35.1 lxml-5.2.1 newspaper3k-0.2.8 requests-file-2.0.0 sgmllib3k-1.0.0 tinysegmenter-0.3 tldextract-5.1.2\n"
     ]
    }
   ],
   "source": [
    "!pip install newspaper3k"
   ]
  },
  {
   "cell_type": "code",
   "execution_count": 24,
   "id": "2d99d26e-ff78-469d-8526-f53a04e7d925",
   "metadata": {
    "ExecuteTime": {
     "end_time": "2024-04-04T06:24:47.293253700Z",
     "start_time": "2024-04-04T06:24:47.257133Z"
    }
   },
   "outputs": [],
   "source": [
    "#lets collect some data from the news article\n",
    "from newspaper import Article\n",
    "url = 'https://www.onmanorama.com/news/kerala/2024/04/03/youths-injured-while-making-country-made-bombs-mannanthala-thiruvananthapuram.html'\n",
    "article = Article(url)"
   ]
  },
  {
   "cell_type": "code",
   "execution_count": 25,
   "id": "b463fa14-51ca-4621-a3b1-6138d9e11485",
   "metadata": {
    "ExecuteTime": {
     "end_time": "2024-04-04T06:24:49.820043400Z",
     "start_time": "2024-04-04T06:24:48.715220700Z"
    }
   },
   "outputs": [],
   "source": [
    "article.download()\n",
    "article.parse()"
   ]
  },
  {
   "cell_type": "code",
   "execution_count": 26,
   "id": "040e1d3f-1a5c-4f2a-b14d-3f267d7731c7",
   "metadata": {
    "ExecuteTime": {
     "end_time": "2024-04-04T06:24:49.856605Z",
     "start_time": "2024-04-04T06:24:49.834481400Z"
    }
   },
   "outputs": [
    {
     "name": "stdout",
     "output_type": "stream",
     "text": [
      "Thiruvananthapuram: A teenager lost both his hands and three others also sustained injuries while assembling a country-made bomb at Mannanthala here on Wednesday.\n",
      "\n",
      "According to the Mannanthala Police, both the hands of 17-year-old Anirudh, a native of Nedumangad, were shattered in the explosion.\n",
      "\n",
      "Akhilesh, who was part of the gang, also sustained serious injuries while two others, Kiran and Sharath sustained minor injuries.\n",
      "\n",
      "All four were involved in cases related to anti-social activities, said Mannanthala SHO. The group was involved in a bike theft case as well, the police said. Kiran and Sharath have been taken into custody while the others are hospitalised.\n",
      "\n",
      "The explosion took place around 6 pm on a hill. The police had recently searched their houses and it is suspected that the youths were making the bomb to attack the cops.\n"
     ]
    }
   ],
   "source": [
    "print(article.text)"
   ]
  },
  {
   "cell_type": "code",
   "execution_count": 27,
   "id": "720b108d-be1e-4415-9394-d7b2bb861722",
   "metadata": {
    "ExecuteTime": {
     "end_time": "2024-04-04T06:24:52.554813600Z",
     "start_time": "2024-04-04T06:24:52.437587100Z"
    }
   },
   "outputs": [],
   "source": [
    "doc = nlp(article.text)"
   ]
  },
  {
   "cell_type": "code",
   "execution_count": 28,
   "id": "7fda7975-8947-467c-b2e3-55780b1b1a3e",
   "metadata": {
    "ExecuteTime": {
     "end_time": "2024-04-04T06:24:53.006722400Z",
     "start_time": "2024-04-04T06:24:53.000179200Z"
    }
   },
   "outputs": [
    {
     "data": {
      "text/plain": "<IPython.core.display.HTML object>",
      "text/html": "<span class=\"tex2jax_ignore\"><div class=\"entities\" style=\"line-height: 2.5; direction: ltr\">Thiruvananthapuram: A teenager lost both his hands and \n<mark class=\"entity\" style=\"background: #e4e7d2; padding: 0.45em 0.6em; margin: 0 0.25em; line-height: 1; border-radius: 0.35em;\">\n    three\n    <span style=\"font-size: 0.8em; font-weight: bold; line-height: 1; border-radius: 0.35em; vertical-align: middle; margin-left: 0.5rem\">CARDINAL</span>\n</mark>\n others also sustained injuries while assembling a country-made bomb at \n<mark class=\"entity\" style=\"background: #feca74; padding: 0.45em 0.6em; margin: 0 0.25em; line-height: 1; border-radius: 0.35em;\">\n    Mannanthala\n    <span style=\"font-size: 0.8em; font-weight: bold; line-height: 1; border-radius: 0.35em; vertical-align: middle; margin-left: 0.5rem\">GPE</span>\n</mark>\n here on \n<mark class=\"entity\" style=\"background: #bfe1d9; padding: 0.45em 0.6em; margin: 0 0.25em; line-height: 1; border-radius: 0.35em;\">\n    Wednesday\n    <span style=\"font-size: 0.8em; font-weight: bold; line-height: 1; border-radius: 0.35em; vertical-align: middle; margin-left: 0.5rem\">DATE</span>\n</mark>\n.<br><br>According to \n<mark class=\"entity\" style=\"background: #7aecec; padding: 0.45em 0.6em; margin: 0 0.25em; line-height: 1; border-radius: 0.35em;\">\n    the Mannanthala Police\n    <span style=\"font-size: 0.8em; font-weight: bold; line-height: 1; border-radius: 0.35em; vertical-align: middle; margin-left: 0.5rem\">ORG</span>\n</mark>\n, both the hands of \n<mark class=\"entity\" style=\"background: #bfe1d9; padding: 0.45em 0.6em; margin: 0 0.25em; line-height: 1; border-radius: 0.35em;\">\n    17-year-old\n    <span style=\"font-size: 0.8em; font-weight: bold; line-height: 1; border-radius: 0.35em; vertical-align: middle; margin-left: 0.5rem\">DATE</span>\n</mark>\n \n<mark class=\"entity\" style=\"background: #7aecec; padding: 0.45em 0.6em; margin: 0 0.25em; line-height: 1; border-radius: 0.35em;\">\n    Anirudh\n    <span style=\"font-size: 0.8em; font-weight: bold; line-height: 1; border-radius: 0.35em; vertical-align: middle; margin-left: 0.5rem\">ORG</span>\n</mark>\n, a native of \n<mark class=\"entity\" style=\"background: #feca74; padding: 0.45em 0.6em; margin: 0 0.25em; line-height: 1; border-radius: 0.35em;\">\n    Nedumangad\n    <span style=\"font-size: 0.8em; font-weight: bold; line-height: 1; border-radius: 0.35em; vertical-align: middle; margin-left: 0.5rem\">GPE</span>\n</mark>\n, were shattered in the explosion.<br><br>Akhilesh, who was part of the gang, also sustained serious injuries while \n<mark class=\"entity\" style=\"background: #e4e7d2; padding: 0.45em 0.6em; margin: 0 0.25em; line-height: 1; border-radius: 0.35em;\">\n    two\n    <span style=\"font-size: 0.8em; font-weight: bold; line-height: 1; border-radius: 0.35em; vertical-align: middle; margin-left: 0.5rem\">CARDINAL</span>\n</mark>\n others, \n<mark class=\"entity\" style=\"background: #aa9cfc; padding: 0.45em 0.6em; margin: 0 0.25em; line-height: 1; border-radius: 0.35em;\">\n    Kiran\n    <span style=\"font-size: 0.8em; font-weight: bold; line-height: 1; border-radius: 0.35em; vertical-align: middle; margin-left: 0.5rem\">PERSON</span>\n</mark>\n and \n<mark class=\"entity\" style=\"background: #bfeeb7; padding: 0.45em 0.6em; margin: 0 0.25em; line-height: 1; border-radius: 0.35em;\">\n    Sharath\n    <span style=\"font-size: 0.8em; font-weight: bold; line-height: 1; border-radius: 0.35em; vertical-align: middle; margin-left: 0.5rem\">PRODUCT</span>\n</mark>\n sustained minor injuries.<br><br>All \n<mark class=\"entity\" style=\"background: #e4e7d2; padding: 0.45em 0.6em; margin: 0 0.25em; line-height: 1; border-radius: 0.35em;\">\n    four\n    <span style=\"font-size: 0.8em; font-weight: bold; line-height: 1; border-radius: 0.35em; vertical-align: middle; margin-left: 0.5rem\">CARDINAL</span>\n</mark>\n were involved in cases related to anti-social activities, said \n<mark class=\"entity\" style=\"background: #aa9cfc; padding: 0.45em 0.6em; margin: 0 0.25em; line-height: 1; border-radius: 0.35em;\">\n    Mannanthala SHO\n    <span style=\"font-size: 0.8em; font-weight: bold; line-height: 1; border-radius: 0.35em; vertical-align: middle; margin-left: 0.5rem\">PERSON</span>\n</mark>\n. The group was involved in a bike theft case as well, the police said. \n<mark class=\"entity\" style=\"background: #aa9cfc; padding: 0.45em 0.6em; margin: 0 0.25em; line-height: 1; border-radius: 0.35em;\">\n    Kiran\n    <span style=\"font-size: 0.8em; font-weight: bold; line-height: 1; border-radius: 0.35em; vertical-align: middle; margin-left: 0.5rem\">PERSON</span>\n</mark>\n and \n<mark class=\"entity\" style=\"background: #c887fb; padding: 0.45em 0.6em; margin: 0 0.25em; line-height: 1; border-radius: 0.35em;\">\n    Sharath\n    <span style=\"font-size: 0.8em; font-weight: bold; line-height: 1; border-radius: 0.35em; vertical-align: middle; margin-left: 0.5rem\">NORP</span>\n</mark>\n have been taken into custody while the others are hospitalised.<br><br>The explosion took place \n<mark class=\"entity\" style=\"background: #bfe1d9; padding: 0.45em 0.6em; margin: 0 0.25em; line-height: 1; border-radius: 0.35em;\">\n    around 6 pm\n    <span style=\"font-size: 0.8em; font-weight: bold; line-height: 1; border-radius: 0.35em; vertical-align: middle; margin-left: 0.5rem\">TIME</span>\n</mark>\n on a hill. The police had recently searched their houses and it is suspected that the youths were making the bomb to attack the cops.</div></span>"
     },
     "metadata": {},
     "output_type": "display_data"
    }
   ],
   "source": [
    "displacy.render(doc, jupyter=True, style='ent')"
   ]
  },
  {
   "cell_type": "code",
   "execution_count": null,
   "outputs": [],
   "source": [],
   "metadata": {
    "collapsed": false
   },
   "id": "54fd19fe32397037"
  }
 ],
 "metadata": {
  "kernelspec": {
   "display_name": "Python 3 (ipykernel)",
   "language": "python",
   "name": "python3"
  },
  "language_info": {
   "codemirror_mode": {
    "name": "ipython",
    "version": 3
   },
   "file_extension": ".py",
   "mimetype": "text/x-python",
   "name": "python",
   "nbconvert_exporter": "python",
   "pygments_lexer": "ipython3",
   "version": "3.9.11"
  }
 },
 "nbformat": 4,
 "nbformat_minor": 5
}
