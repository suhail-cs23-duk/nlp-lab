{
 "cells": [
  {
   "cell_type": "code",
   "execution_count": 1,
   "id": "1d4aeeb5-de33-4924-97e0-7b3d0c31dadd",
   "metadata": {
    "ExecuteTime": {
     "end_time": "2024-06-23T08:02:24.404767300Z",
     "start_time": "2024-06-23T08:02:19.982826300Z"
    }
   },
   "outputs": [
    {
     "name": "stdout",
     "output_type": "stream",
     "text": [
      "POS tags:\n",
      "Can: MD\n",
      "you: PRP\n",
      "draft: VB\n",
      "a: DT\n",
      "clause: NN\n",
      "for: IN\n",
      "a: DT\n",
      "non-disclosure: JJ\n",
      "agreement: NN\n",
      "under: IN\n",
      "Indian: JJ\n",
      "law: NN\n",
      "to: TO\n",
      "protect: VB\n",
      "a: DT\n",
      "company: NN\n",
      "'s: POS\n",
      "confidential: JJ\n",
      "information: NN\n",
      "?: .\n"
     ]
    },
    {
     "name": "stderr",
     "output_type": "stream",
     "text": [
      "[nltk_data] Downloading package punkt to\n",
      "[nltk_data]     C:\\Users\\sasuh\\AppData\\Roaming\\nltk_data...\n",
      "[nltk_data]   Package punkt is already up-to-date!\n",
      "[nltk_data] Downloading package averaged_perceptron_tagger to\n",
      "[nltk_data]     C:\\Users\\sasuh\\AppData\\Roaming\\nltk_data...\n",
      "[nltk_data]   Package averaged_perceptron_tagger is already up-to-\n",
      "[nltk_data]       date!\n"
     ]
    }
   ],
   "source": [
    "#This code demonstrates the POS tagging in NLP using NLTK\n",
    "import nltk\n",
    "from nltk.tokenize import word_tokenize\n",
    "from nltk import pos_tag\n",
    "\n",
    "# Download necessary resources if not already downloaded\n",
    "nltk.download('punkt')\n",
    "nltk.download('averaged_perceptron_tagger')\n",
    "\n",
    "# Example text\n",
    "text = \"Can you draft a clause for a non-disclosure agreement under Indian law to protect a company's confidential information?\"\n",
    "\n",
    "# Tokenize the text into words\n",
    "words = word_tokenize(text)\n",
    "\n",
    "# Perform POS tagging\n",
    "pos_tags = pos_tag(words)\n",
    "\n",
    "# Print the POS tags\n",
    "print(\"POS tags:\")\n",
    "for word, tag in pos_tags:\n",
    "    print(f\"{word}: {tag}\")\n"
   ]
  },
  {
   "cell_type": "code",
   "execution_count": 3,
   "id": "c9b746a5-9f97-4007-8f98-87fb76cc3a41",
   "metadata": {
    "ExecuteTime": {
     "end_time": "2024-06-23T08:02:59.008787200Z",
     "start_time": "2024-06-23T08:02:58.632914700Z"
    }
   },
   "outputs": [
    {
     "name": "stdout",
     "output_type": "stream",
     "text": [
      "POS tags:\n",
      "Can: AUX\n",
      "you: PRON\n",
      "draft: VERB\n",
      "a: DET\n",
      "clause: NOUN\n",
      "for: ADP\n",
      "a: DET\n",
      "non: ADJ\n",
      "-: ADJ\n",
      "disclosure: ADJ\n",
      "agreement: NOUN\n",
      "under: ADP\n",
      "Indian: ADJ\n",
      "law: NOUN\n",
      "to: PART\n",
      "protect: VERB\n",
      "a: DET\n",
      "company: NOUN\n",
      "'s: PART\n",
      "confidential: ADJ\n",
      "information: NOUN\n",
      "?: PUNCT\n"
     ]
    }
   ],
   "source": [
    "#The same functionality but with spaCy library\n",
    "import spacy\n",
    "\n",
    "# Load the English language model\n",
    "nlp = spacy.load(\"en_core_web_sm\")\n",
    "\n",
    "# Example text\n",
    "text = \"Can you draft a clause for a non-disclosure agreement under Indian law to protect a company's confidential information?\"\n",
    "\n",
    "# Process the text using spaCy\n",
    "doc = nlp(text)\n",
    "\n",
    "# Print the POS tags\n",
    "print(\"POS tags:\")\n",
    "for token in doc:\n",
    "    print(f\"{token.text}: {token.pos_}\")"
   ]
  }
 ],
 "metadata": {
  "kernelspec": {
   "display_name": "Python 3 (ipykernel)",
   "language": "python",
   "name": "python3"
  },
  "language_info": {
   "codemirror_mode": {
    "name": "ipython",
    "version": 3
   },
   "file_extension": ".py",
   "mimetype": "text/x-python",
   "name": "python",
   "nbconvert_exporter": "python",
   "pygments_lexer": "ipython3",
   "version": "3.9.11"
  }
 },
 "nbformat": 4,
 "nbformat_minor": 5
}
