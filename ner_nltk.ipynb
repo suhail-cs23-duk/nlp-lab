{
 "cells": [
  {
   "cell_type": "code",
   "execution_count": 1,
   "id": "70440d6f-6a87-4a70-a409-b7aaf9856ca7",
   "metadata": {
    "ExecuteTime": {
     "end_time": "2024-06-23T07:56:46.104120800Z",
     "start_time": "2024-06-23T07:56:42.553499800Z"
    }
   },
   "outputs": [],
   "source": [
    "#import required libraries\n",
    "import nltk\n",
    "from nltk.tokenize import word_tokenize\n",
    "from nltk.tag import pos_tag"
   ]
  },
  {
   "cell_type": "code",
   "execution_count": 2,
   "id": "e5a0cb72-c8f1-4e8b-9eae-bf5037ddc2c6",
   "metadata": {
    "ExecuteTime": {
     "end_time": "2024-06-23T07:56:52.613346900Z",
     "start_time": "2024-06-23T07:56:52.606340400Z"
    }
   },
   "outputs": [],
   "source": [
    "text = \"Can you draft a clause for a non-disclosure agreement under Indian law to protect a company's confidential information?\""
   ]
  },
  {
   "cell_type": "code",
   "execution_count": 3,
   "id": "f30a858f-f3dd-44fb-84a3-25a55f69ec90",
   "metadata": {
    "ExecuteTime": {
     "end_time": "2024-06-23T07:56:58.723814600Z",
     "start_time": "2024-06-23T07:56:58.711697900Z"
    }
   },
   "outputs": [],
   "source": [
    "def preprocess(sent):\n",
    "    sent = nltk.word_tokenize(sent)\n",
    "    sent = nltk.pos_tag(sent)\n",
    "    return sent"
   ]
  },
  {
   "cell_type": "code",
   "execution_count": 4,
   "id": "f6ed69cd-0e46-4503-9b7b-884939852ad4",
   "metadata": {
    "ExecuteTime": {
     "end_time": "2024-06-23T07:57:03.301114500Z",
     "start_time": "2024-06-23T07:57:03.203993800Z"
    }
   },
   "outputs": [
    {
     "data": {
      "text/plain": "[('Can', 'MD'),\n ('you', 'PRP'),\n ('draft', 'VB'),\n ('a', 'DT'),\n ('clause', 'NN'),\n ('for', 'IN'),\n ('a', 'DT'),\n ('non-disclosure', 'JJ'),\n ('agreement', 'NN'),\n ('under', 'IN'),\n ('Indian', 'JJ'),\n ('law', 'NN'),\n ('to', 'TO'),\n ('protect', 'VB'),\n ('a', 'DT'),\n ('company', 'NN'),\n (\"'s\", 'POS'),\n ('confidential', 'JJ'),\n ('information', 'NN'),\n ('?', '.')]"
     },
     "execution_count": 4,
     "metadata": {},
     "output_type": "execute_result"
    }
   ],
   "source": [
    "sent = preprocess(text)\n",
    "sent"
   ]
  },
  {
   "cell_type": "code",
   "execution_count": 5,
   "id": "73b9bd88-541a-4205-8f28-e22eef5ad318",
   "metadata": {
    "ExecuteTime": {
     "end_time": "2024-06-23T07:57:23.938564600Z",
     "start_time": "2024-06-23T07:57:23.926050400Z"
    }
   },
   "outputs": [],
   "source": [
    "pattern = 'NP: {<DT>?<JJ>*<NN>}'"
   ]
  },
  {
   "cell_type": "code",
   "execution_count": 6,
   "id": "1673d708-ec7f-4164-a338-0029f67d368d",
   "metadata": {
    "ExecuteTime": {
     "end_time": "2024-06-23T07:57:26.213395400Z",
     "start_time": "2024-06-23T07:57:26.196092600Z"
    }
   },
   "outputs": [
    {
     "name": "stdout",
     "output_type": "stream",
     "text": [
      "(S\n",
      "  Can/MD\n",
      "  you/PRP\n",
      "  draft/VB\n",
      "  (NP a/DT clause/NN)\n",
      "  for/IN\n",
      "  (NP a/DT non-disclosure/JJ agreement/NN)\n",
      "  under/IN\n",
      "  (NP Indian/JJ law/NN)\n",
      "  to/TO\n",
      "  protect/VB\n",
      "  (NP a/DT company/NN)\n",
      "  's/POS\n",
      "  (NP confidential/JJ information/NN)\n",
      "  ?/.)\n"
     ]
    }
   ],
   "source": [
    "cp = nltk.RegexpParser(pattern)\n",
    "cs = cp.parse(sent)\n",
    "print(cs)"
   ]
  },
  {
   "cell_type": "code",
   "execution_count": 7,
   "id": "6bd016df-2857-474d-90fd-ed32c1d0baa6",
   "metadata": {
    "ExecuteTime": {
     "end_time": "2024-06-23T07:57:42.626960900Z",
     "start_time": "2024-06-23T07:57:42.605122300Z"
    }
   },
   "outputs": [
    {
     "name": "stdout",
     "output_type": "stream",
     "text": [
      "[('Can', 'MD', 'O'),\n",
      " ('you', 'PRP', 'O'),\n",
      " ('draft', 'VB', 'O'),\n",
      " ('a', 'DT', 'B-NP'),\n",
      " ('clause', 'NN', 'I-NP'),\n",
      " ('for', 'IN', 'O'),\n",
      " ('a', 'DT', 'B-NP'),\n",
      " ('non-disclosure', 'JJ', 'I-NP'),\n",
      " ('agreement', 'NN', 'I-NP'),\n",
      " ('under', 'IN', 'O'),\n",
      " ('Indian', 'JJ', 'B-NP'),\n",
      " ('law', 'NN', 'I-NP'),\n",
      " ('to', 'TO', 'O'),\n",
      " ('protect', 'VB', 'O'),\n",
      " ('a', 'DT', 'B-NP'),\n",
      " ('company', 'NN', 'I-NP'),\n",
      " (\"'s\", 'POS', 'O'),\n",
      " ('confidential', 'JJ', 'B-NP'),\n",
      " ('information', 'NN', 'I-NP'),\n",
      " ('?', '.', 'O')]\n"
     ]
    }
   ],
   "source": [
    "from nltk.chunk import conlltags2tree, tree2conlltags\n",
    "from pprint import pprint\n",
    "iob_tagged = tree2conlltags(cs)\n",
    "pprint(iob_tagged)"
   ]
  },
  {
   "cell_type": "code",
   "execution_count": 9,
   "id": "22f66b58-b3d6-4f64-9915-4cf833acc863",
   "metadata": {
    "ExecuteTime": {
     "end_time": "2024-04-04T05:09:56.450945600Z",
     "start_time": "2024-04-04T05:09:32.294930300Z"
    }
   },
   "outputs": [
    {
     "name": "stderr",
     "output_type": "stream",
     "text": [
      "[nltk_data] Downloading package maxent_ne_chunker to\n",
      "[nltk_data]     C:\\Users\\sasuh\\AppData\\Roaming\\nltk_data...\n",
      "[nltk_data]   Unzipping chunkers\\maxent_ne_chunker.zip.\n",
      "[nltk_data] Downloading package words to\n",
      "[nltk_data]     C:\\Users\\sasuh\\AppData\\Roaming\\nltk_data...\n",
      "[nltk_data]   Unzipping corpora\\words.zip.\n"
     ]
    },
    {
     "data": {
      "text/plain": "True"
     },
     "execution_count": 9,
     "metadata": {},
     "output_type": "execute_result"
    }
   ],
   "source": [
    "nltk.download('maxent_ne_chunker')\n",
    "nltk.download('words')"
   ]
  },
  {
   "cell_type": "code",
   "execution_count": 8,
   "id": "c691e25e-86cb-4441-8800-ff799d26d042",
   "metadata": {
    "ExecuteTime": {
     "end_time": "2024-06-23T07:58:00.971214900Z",
     "start_time": "2024-06-23T07:58:00.872620500Z"
    }
   },
   "outputs": [
    {
     "name": "stdout",
     "output_type": "stream",
     "text": [
      "(S\n",
      "  Can/MD\n",
      "  you/PRP\n",
      "  draft/VB\n",
      "  a/DT\n",
      "  clause/NN\n",
      "  for/IN\n",
      "  a/DT\n",
      "  non-disclosure/JJ\n",
      "  agreement/NN\n",
      "  under/IN\n",
      "  (GPE Indian/JJ)\n",
      "  law/NN\n",
      "  to/TO\n",
      "  protect/VB\n",
      "  a/DT\n",
      "  company/NN\n",
      "  's/POS\n",
      "  confidential/JJ\n",
      "  information/NN\n",
      "  ?/.)\n"
     ]
    }
   ],
   "source": [
    "ne_tree = nltk.ne_chunk(pos_tag(word_tokenize(text)))\n",
    "print(ne_tree)"
   ]
  },
  {
   "cell_type": "code",
   "execution_count": null,
   "id": "8f79da42-9f8a-4346-a594-650d3b3aefd0",
   "metadata": {},
   "outputs": [],
   "source": []
  }
 ],
 "metadata": {
  "kernelspec": {
   "display_name": "Python 3 (ipykernel)",
   "language": "python",
   "name": "python3"
  },
  "language_info": {
   "codemirror_mode": {
    "name": "ipython",
    "version": 3
   },
   "file_extension": ".py",
   "mimetype": "text/x-python",
   "name": "python",
   "nbconvert_exporter": "python",
   "pygments_lexer": "ipython3",
   "version": "3.9.11"
  }
 },
 "nbformat": 4,
 "nbformat_minor": 5
}
