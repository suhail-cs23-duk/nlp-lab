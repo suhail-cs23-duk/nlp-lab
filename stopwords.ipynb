{
 "cells": [
  {
   "cell_type": "code",
   "execution_count": 2,
   "id": "3609be8bf5f5d237",
   "metadata": {
    "collapsed": false,
    "ExecuteTime": {
     "end_time": "2024-06-23T08:08:03.410224900Z",
     "start_time": "2024-06-23T08:08:03.404681900Z"
    }
   },
   "outputs": [],
   "source": [
    "#The following code will demonstrate the stopwords removal in NLP using NLTK\n",
    "\n",
    "import nltk\n",
    "from nltk.corpus import stopwords\n",
    "from nltk.tokenize import word_tokenize"
   ]
  },
  {
   "cell_type": "code",
   "execution_count": 6,
   "outputs": [
    {
     "name": "stderr",
     "output_type": "stream",
     "text": [
      "[nltk_data] Downloading package stopwords to\n",
      "[nltk_data]     C:\\Users\\sasuh\\AppData\\Roaming\\nltk_data...\n",
      "[nltk_data]   Unzipping corpora\\stopwords.zip.\n"
     ]
    },
    {
     "data": {
      "text/plain": "True"
     },
     "execution_count": 6,
     "metadata": {},
     "output_type": "execute_result"
    }
   ],
   "source": [
    "# Download stopwords list if not already downloaded\n",
    "nltk.download('stopwords')\n",
    "#nltk.download('punkt')"
   ],
   "metadata": {
    "collapsed": false,
    "ExecuteTime": {
     "end_time": "2024-06-23T08:08:25.200456300Z",
     "start_time": "2024-06-23T08:08:22.185094900Z"
    }
   },
   "id": "7d7d86a893acdeef"
  },
  {
   "cell_type": "code",
   "execution_count": 12,
   "outputs": [],
   "source": [
    "# Example sentence\n",
    "sentence = \"Can you draft a clause for a non-disclosure agreement under Indian law to protect a company's confidential information?\"\n",
    "#sentence = \"Natural language processing (NLP) is a field of artificial intelligence concerned with the interaction between computers and humans in natural language. NLP enables computers to understand, interpret, and generate human language in a way that is both useful and meaningful. One common preprocessing step in NLP is stopwords removal, which involves filtering out common words that do not carry much semantic meaning, such as articles, prepositions, and conjunctions.\""
   ],
   "metadata": {
    "collapsed": false,
    "ExecuteTime": {
     "end_time": "2024-06-23T08:09:11.833459200Z",
     "start_time": "2024-06-23T08:09:11.820946300Z"
    }
   },
   "id": "a2940e0bd4688115"
  },
  {
   "cell_type": "code",
   "execution_count": 13,
   "outputs": [],
   "source": [
    "# Tokenize the sentence into words\n",
    "words = word_tokenize(sentence)"
   ],
   "metadata": {
    "collapsed": false,
    "ExecuteTime": {
     "end_time": "2024-06-23T08:09:13.325768200Z",
     "start_time": "2024-06-23T08:09:13.317238Z"
    }
   },
   "id": "73fa4c9d0eee971c"
  },
  {
   "cell_type": "code",
   "execution_count": 14,
   "outputs": [],
   "source": [
    "# Get English stopwords\n",
    "stop_words = set(stopwords.words('english'))"
   ],
   "metadata": {
    "collapsed": false,
    "ExecuteTime": {
     "end_time": "2024-06-23T08:09:14.246432400Z",
     "start_time": "2024-06-23T08:09:14.238838600Z"
    }
   },
   "id": "a30967b378836dcf"
  },
  {
   "cell_type": "code",
   "execution_count": 15,
   "outputs": [],
   "source": [
    "# Remove stopwords from the tokenized words\n",
    "filtered_words = [word for word in words if word.lower() not in stop_words]"
   ],
   "metadata": {
    "collapsed": false,
    "ExecuteTime": {
     "end_time": "2024-06-23T08:09:15.471949900Z",
     "start_time": "2024-06-23T08:09:15.467003800Z"
    }
   },
   "id": "7371139b20553637"
  },
  {
   "cell_type": "code",
   "execution_count": 16,
   "outputs": [
    {
     "name": "stdout",
     "output_type": "stream",
     "text": [
      "Original words: ['Can', 'you', 'draft', 'a', 'clause', 'for', 'a', 'non-disclosure', 'agreement', 'under', 'Indian', 'law', 'to', 'protect', 'a', 'company', \"'s\", 'confidential', 'information', '?']\n",
      "Words after stopwords removal: ['draft', 'clause', 'non-disclosure', 'agreement', 'Indian', 'law', 'protect', 'company', \"'s\", 'confidential', 'information', '?']\n"
     ]
    }
   ],
   "source": [
    "# Print the filtered words\n",
    "print(\"Original words:\", words)\n",
    "print(\"Words after stopwords removal:\", filtered_words)"
   ],
   "metadata": {
    "ExecuteTime": {
     "end_time": "2024-06-23T08:09:16.148197200Z",
     "start_time": "2024-06-23T08:09:16.144370300Z"
    }
   },
   "id": "c1cbb44c-21f7-4333-971f-10cadab62475"
  },
  {
   "cell_type": "code",
   "execution_count": null,
   "outputs": [],
   "source": [],
   "metadata": {
    "collapsed": false
   },
   "id": "333e3950388c3815"
  }
 ],
 "metadata": {
  "kernelspec": {
   "display_name": "Python 3 (ipykernel)",
   "language": "python",
   "name": "python3"
  },
  "language_info": {
   "codemirror_mode": {
    "name": "ipython",
    "version": 3
   },
   "file_extension": ".py",
   "mimetype": "text/x-python",
   "name": "python",
   "nbconvert_exporter": "python",
   "pygments_lexer": "ipython3",
   "version": "3.9.11"
  }
 },
 "nbformat": 4,
 "nbformat_minor": 5
}
